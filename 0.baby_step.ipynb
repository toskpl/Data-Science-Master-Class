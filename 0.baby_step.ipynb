{
 "cells": [
  {
   "cell_type": "code",
   "execution_count": 2,
   "id": "preceding-lobby",
   "metadata": {},
   "outputs": [],
   "source": [
    "#import bibliotek\n",
    "import pandas as pd\n",
    "import numpy as np\n",
    "from sklearn.metrics import mean_absolute_error\n",
    "from sklearn.model_selection import cross_val_score\n",
    "from sklearn.dummy import DummyRegressor\n",
    "import xgboost as xgb\n",
    "import missingno as msno\n",
    "\n",
    "import xgboost as xgb\n",
    "import missingno as msno\n",
    "from tqdm import tqdm\n"
   ]
  },
  {
   "cell_type": "code",
   "execution_count": 3,
   "id": "smooth-seattle",
   "metadata": {},
   "outputs": [],
   "source": [
    "#aby widac wszyskie kolumny w df\n",
    "pd.set_option('display.max_columns', 500)"
   ]
  },
  {
   "cell_type": "code",
   "execution_count": 4,
   "id": "solved-language",
   "metadata": {},
   "outputs": [
    {
     "data": {
      "text/plain": [
       "(45694, 35)"
      ]
     },
     "execution_count": 4,
     "metadata": {},
     "output_type": "execute_result"
    }
   ],
   "source": [
    "#wczytanie danych\n",
    "df = pd.read_hdf(\"../input/train_property.h5\")\n",
    "df.shape"
   ]
  },
  {
   "cell_type": "code",
   "execution_count": 5,
   "id": "clear-budget",
   "metadata": {},
   "outputs": [
    {
     "data": {
      "text/html": [
       "<div>\n",
       "<style scoped>\n",
       "    .dataframe tbody tr th:only-of-type {\n",
       "        vertical-align: middle;\n",
       "    }\n",
       "\n",
       "    .dataframe tbody tr th {\n",
       "        vertical-align: top;\n",
       "    }\n",
       "\n",
       "    .dataframe thead th {\n",
       "        text-align: right;\n",
       "    }\n",
       "</style>\n",
       "<table border=\"1\" class=\"dataframe\">\n",
       "  <thead>\n",
       "    <tr style=\"text-align: right;\">\n",
       "      <th></th>\n",
       "      <th>breadcrumbs</th>\n",
       "      <th>date</th>\n",
       "      <th>geo_block</th>\n",
       "      <th>owner</th>\n",
       "      <th>price</th>\n",
       "      <th>Security:</th>\n",
       "      <th>Building type:</th>\n",
       "      <th>Object type:</th>\n",
       "      <th>Ad type:</th>\n",
       "      <th>Commission agent:</th>\n",
       "      <th>Construction phase:</th>\n",
       "      <th>Housing class:</th>\n",
       "      <th>Elevator:</th>\n",
       "      <th>Bathroom type:</th>\n",
       "      <th>Balcony type:</th>\n",
       "      <th>Mortgage possible:</th>\n",
       "      <th>The view from the window:</th>\n",
       "      <th>Garbage chute:</th>\n",
       "      <th>Repair:</th>\n",
       "      <th>Fridge:</th>\n",
       "      <th>Phone:</th>\n",
       "      <th>Furniture:</th>\n",
       "      <th>Free layout:</th>\n",
       "      <th>It is possible to bargain:</th>\n",
       "      <th>Floor covering:</th>\n",
       "      <th>Room type:</th>\n",
       "      <th>Internet:</th>\n",
       "      <th>Kitchen furniture:</th>\n",
       "      <th>TV:</th>\n",
       "      <th>Washing machine:</th>\n",
       "      <th>Foundation type:</th>\n",
       "      <th>Overlap type:</th>\n",
       "      <th>Type of the building:</th>\n",
       "      <th>Playground:</th>\n",
       "      <th>Class:</th>\n",
       "    </tr>\n",
       "  </thead>\n",
       "  <tbody>\n",
       "    <tr>\n",
       "      <th>0</th>\n",
       "      <td>[Москва, МЦК Лужники]</td>\n",
       "      <td>[23 февраля 2018, 133, (+2 за сегодня), Обновл...</td>\n",
       "      <td>[г. Москва, г. Москва]</td>\n",
       "      <td>[]</td>\n",
       "      <td>380.610000</td>\n",
       "      <td>secure Parking, video surveillance, 24-hour se...</td>\n",
       "      <td>Brick</td>\n",
       "      <td>apartments</td>\n",
       "      <td>new building</td>\n",
       "      <td>no fee</td>\n",
       "      <td>Commissioned</td>\n",
       "      <td>Elite class</td>\n",
       "      <td>NaN</td>\n",
       "      <td>NaN</td>\n",
       "      <td>NaN</td>\n",
       "      <td>NaN</td>\n",
       "      <td>NaN</td>\n",
       "      <td>NaN</td>\n",
       "      <td>NaN</td>\n",
       "      <td>NaN</td>\n",
       "      <td>NaN</td>\n",
       "      <td>NaN</td>\n",
       "      <td>NaN</td>\n",
       "      <td>NaN</td>\n",
       "      <td>NaN</td>\n",
       "      <td>NaN</td>\n",
       "      <td>NaN</td>\n",
       "      <td>NaN</td>\n",
       "      <td>NaN</td>\n",
       "      <td>NaN</td>\n",
       "      <td>NaN</td>\n",
       "      <td>NaN</td>\n",
       "      <td>NaN</td>\n",
       "      <td>NaN</td>\n",
       "      <td>NaN</td>\n",
       "    </tr>\n",
       "    <tr>\n",
       "      <th>1</th>\n",
       "      <td>[Москва, Новая Москва, п. Сосенское, п. Коммун...</td>\n",
       "      <td>[сегодня в 04:52, 3, (+3 за сегодня)]</td>\n",
       "      <td>[Новая Москва, п. Сосенское, п. Коммунарка, Юж...</td>\n",
       "      <td>[]</td>\n",
       "      <td>8.004631</td>\n",
       "      <td>Yes</td>\n",
       "      <td>Monolithic-brick</td>\n",
       "      <td>flat</td>\n",
       "      <td>from the developer</td>\n",
       "      <td>no fee</td>\n",
       "      <td>Building walls</td>\n",
       "      <td>Comfort class</td>\n",
       "      <td>yes</td>\n",
       "      <td>separate</td>\n",
       "      <td>balcony</td>\n",
       "      <td>yes</td>\n",
       "      <td>NaN</td>\n",
       "      <td>NaN</td>\n",
       "      <td>NaN</td>\n",
       "      <td>NaN</td>\n",
       "      <td>NaN</td>\n",
       "      <td>NaN</td>\n",
       "      <td>NaN</td>\n",
       "      <td>NaN</td>\n",
       "      <td>NaN</td>\n",
       "      <td>NaN</td>\n",
       "      <td>NaN</td>\n",
       "      <td>NaN</td>\n",
       "      <td>NaN</td>\n",
       "      <td>NaN</td>\n",
       "      <td>NaN</td>\n",
       "      <td>NaN</td>\n",
       "      <td>NaN</td>\n",
       "      <td>NaN</td>\n",
       "      <td>NaN</td>\n",
       "    </tr>\n",
       "    <tr>\n",
       "      <th>2</th>\n",
       "      <td>[Москва, МЦК Крымская, ул. Поляны]</td>\n",
       "      <td>[5 марта, 6, (+1 за сегодня), Обновлено 15 мая]</td>\n",
       "      <td>[г. Москва, ул Поляны, г. Москва, ул Поляны]</td>\n",
       "      <td>[]</td>\n",
       "      <td>6.520000</td>\n",
       "      <td>provided</td>\n",
       "      <td>Monolithic</td>\n",
       "      <td>apartments</td>\n",
       "      <td>from the developer</td>\n",
       "      <td>no fee</td>\n",
       "      <td>Finish</td>\n",
       "      <td>Comfort class</td>\n",
       "      <td>yes</td>\n",
       "      <td>combined</td>\n",
       "      <td>NaN</td>\n",
       "      <td>NaN</td>\n",
       "      <td>yard</td>\n",
       "      <td>yes</td>\n",
       "      <td>NaN</td>\n",
       "      <td>NaN</td>\n",
       "      <td>NaN</td>\n",
       "      <td>NaN</td>\n",
       "      <td>NaN</td>\n",
       "      <td>NaN</td>\n",
       "      <td>NaN</td>\n",
       "      <td>NaN</td>\n",
       "      <td>NaN</td>\n",
       "      <td>NaN</td>\n",
       "      <td>NaN</td>\n",
       "      <td>NaN</td>\n",
       "      <td>NaN</td>\n",
       "      <td>NaN</td>\n",
       "      <td>NaN</td>\n",
       "      <td>NaN</td>\n",
       "      <td>NaN</td>\n",
       "    </tr>\n",
       "    <tr>\n",
       "      <th>3</th>\n",
       "      <td>[Москва, Беговой, м. Динамо, МЦК Хорошёво]</td>\n",
       "      <td>[22 мая 2018, 60, (+2 за сегодня), Обновлено 1...</td>\n",
       "      <td>[г. Москва, Беговой, г. Москва, Беговой]</td>\n",
       "      <td>[]</td>\n",
       "      <td>20.269686</td>\n",
       "      <td>NaN</td>\n",
       "      <td>Monolithic</td>\n",
       "      <td>flat</td>\n",
       "      <td>new building</td>\n",
       "      <td>no fee</td>\n",
       "      <td>NaN</td>\n",
       "      <td>NaN</td>\n",
       "      <td>yes</td>\n",
       "      <td>NaN</td>\n",
       "      <td>loggia</td>\n",
       "      <td>yes</td>\n",
       "      <td>street</td>\n",
       "      <td>yes</td>\n",
       "      <td>NaN</td>\n",
       "      <td>NaN</td>\n",
       "      <td>NaN</td>\n",
       "      <td>NaN</td>\n",
       "      <td>NaN</td>\n",
       "      <td>NaN</td>\n",
       "      <td>NaN</td>\n",
       "      <td>NaN</td>\n",
       "      <td>NaN</td>\n",
       "      <td>NaN</td>\n",
       "      <td>NaN</td>\n",
       "      <td>NaN</td>\n",
       "      <td>NaN</td>\n",
       "      <td>NaN</td>\n",
       "      <td>NaN</td>\n",
       "      <td>NaN</td>\n",
       "      <td>NaN</td>\n",
       "    </tr>\n",
       "    <tr>\n",
       "      <th>4</th>\n",
       "      <td>[Москва, Филёвский Парк, м. Фили, МЦК Шелепиха]</td>\n",
       "      <td>[26 декабря 2018, 13, (+1 за сегодня), Обновле...</td>\n",
       "      <td>[г. Москва, Филёвский Парк, г. Москва, Филёвск...</td>\n",
       "      <td>[]</td>\n",
       "      <td>15.100880</td>\n",
       "      <td>NaN</td>\n",
       "      <td>Monolithic</td>\n",
       "      <td>apartments</td>\n",
       "      <td>secondary</td>\n",
       "      <td>no fee</td>\n",
       "      <td>NaN</td>\n",
       "      <td>NaN</td>\n",
       "      <td>NaN</td>\n",
       "      <td>NaN</td>\n",
       "      <td>NaN</td>\n",
       "      <td>NaN</td>\n",
       "      <td>NaN</td>\n",
       "      <td>NaN</td>\n",
       "      <td>NaN</td>\n",
       "      <td>NaN</td>\n",
       "      <td>NaN</td>\n",
       "      <td>NaN</td>\n",
       "      <td>NaN</td>\n",
       "      <td>NaN</td>\n",
       "      <td>NaN</td>\n",
       "      <td>NaN</td>\n",
       "      <td>NaN</td>\n",
       "      <td>NaN</td>\n",
       "      <td>NaN</td>\n",
       "      <td>NaN</td>\n",
       "      <td>NaN</td>\n",
       "      <td>NaN</td>\n",
       "      <td>NaN</td>\n",
       "      <td>NaN</td>\n",
       "      <td>NaN</td>\n",
       "    </tr>\n",
       "  </tbody>\n",
       "</table>\n",
       "</div>"
      ],
      "text/plain": [
       "                                         breadcrumbs  \\\n",
       "0                              [Москва, МЦК Лужники]   \n",
       "1  [Москва, Новая Москва, п. Сосенское, п. Коммун...   \n",
       "2                 [Москва, МЦК Крымская, ул. Поляны]   \n",
       "3         [Москва, Беговой, м. Динамо, МЦК Хорошёво]   \n",
       "4    [Москва, Филёвский Парк, м. Фили, МЦК Шелепиха]   \n",
       "\n",
       "                                                date  \\\n",
       "0  [23 февраля 2018, 133, (+2 за сегодня), Обновл...   \n",
       "1              [сегодня в 04:52, 3, (+3 за сегодня)]   \n",
       "2    [5 марта, 6, (+1 за сегодня), Обновлено 15 мая]   \n",
       "3  [22 мая 2018, 60, (+2 за сегодня), Обновлено 1...   \n",
       "4  [26 декабря 2018, 13, (+1 за сегодня), Обновле...   \n",
       "\n",
       "                                           geo_block owner       price  \\\n",
       "0                             [г. Москва, г. Москва]    []  380.610000   \n",
       "1  [Новая Москва, п. Сосенское, п. Коммунарка, Юж...    []    8.004631   \n",
       "2       [г. Москва, ул Поляны, г. Москва, ул Поляны]    []    6.520000   \n",
       "3           [г. Москва, Беговой, г. Москва, Беговой]    []   20.269686   \n",
       "4  [г. Москва, Филёвский Парк, г. Москва, Филёвск...    []   15.100880   \n",
       "\n",
       "                                           Security:    Building type:  \\\n",
       "0  secure Parking, video surveillance, 24-hour se...             Brick   \n",
       "1                                                Yes  Monolithic-brick   \n",
       "2                                           provided        Monolithic   \n",
       "3                                                NaN        Monolithic   \n",
       "4                                                NaN        Monolithic   \n",
       "\n",
       "  Object type:            Ad type: Commission agent: Construction phase:  \\\n",
       "0   apartments        new building            no fee        Commissioned   \n",
       "1         flat  from the developer            no fee      Building walls   \n",
       "2   apartments  from the developer            no fee              Finish   \n",
       "3         flat        new building            no fee                 NaN   \n",
       "4   apartments           secondary            no fee                 NaN   \n",
       "\n",
       "  Housing class: Elevator: Bathroom type: Balcony type: Mortgage possible:  \\\n",
       "0    Elite class       NaN            NaN           NaN                NaN   \n",
       "1  Comfort class       yes       separate       balcony                yes   \n",
       "2  Comfort class       yes       combined           NaN                NaN   \n",
       "3            NaN       yes            NaN        loggia                yes   \n",
       "4            NaN       NaN            NaN           NaN                NaN   \n",
       "\n",
       "  The view from the window: Garbage chute: Repair: Fridge: Phone: Furniture:  \\\n",
       "0                       NaN            NaN     NaN     NaN    NaN        NaN   \n",
       "1                       NaN            NaN     NaN     NaN    NaN        NaN   \n",
       "2                      yard            yes     NaN     NaN    NaN        NaN   \n",
       "3                    street            yes     NaN     NaN    NaN        NaN   \n",
       "4                       NaN            NaN     NaN     NaN    NaN        NaN   \n",
       "\n",
       "  Free layout: It is possible to bargain: Floor covering: Room type:  \\\n",
       "0          NaN                        NaN             NaN        NaN   \n",
       "1          NaN                        NaN             NaN        NaN   \n",
       "2          NaN                        NaN             NaN        NaN   \n",
       "3          NaN                        NaN             NaN        NaN   \n",
       "4          NaN                        NaN             NaN        NaN   \n",
       "\n",
       "  Internet: Kitchen furniture:  TV: Washing machine: Foundation type:  \\\n",
       "0       NaN                NaN  NaN              NaN              NaN   \n",
       "1       NaN                NaN  NaN              NaN              NaN   \n",
       "2       NaN                NaN  NaN              NaN              NaN   \n",
       "3       NaN                NaN  NaN              NaN              NaN   \n",
       "4       NaN                NaN  NaN              NaN              NaN   \n",
       "\n",
       "  Overlap type: Type of the building: Playground: Class:  \n",
       "0           NaN                   NaN         NaN    NaN  \n",
       "1           NaN                   NaN         NaN    NaN  \n",
       "2           NaN                   NaN         NaN    NaN  \n",
       "3           NaN                   NaN         NaN    NaN  \n",
       "4           NaN                   NaN         NaN    NaN  "
      ]
     },
     "execution_count": 5,
     "metadata": {},
     "output_type": "execute_result"
    }
   ],
   "source": [
    "df.head()"
   ]
  },
  {
   "cell_type": "code",
   "execution_count": 6,
   "id": "incorporate-montgomery",
   "metadata": {},
   "outputs": [
    {
     "data": {
      "text/plain": [
       "Index(['breadcrumbs', 'date', 'geo_block', 'owner', 'price', 'Security:',\n",
       "       'Building type:', 'Object type:', 'Ad type:', 'Commission agent:',\n",
       "       'Construction phase:', 'Housing class:', 'Elevator:', 'Bathroom type:',\n",
       "       'Balcony type:', 'Mortgage possible:', 'The view from the window:',\n",
       "       'Garbage chute:', 'Repair:', 'Fridge:', 'Phone:', 'Furniture:',\n",
       "       'Free layout:', 'It is possible to bargain:', 'Floor covering:',\n",
       "       'Room type:', 'Internet:', 'Kitchen furniture:', 'TV:',\n",
       "       'Washing machine:', 'Foundation type:', 'Overlap type:',\n",
       "       'Type of the building:', 'Playground:', 'Class:'],\n",
       "      dtype='object')"
      ]
     },
     "execution_count": 6,
     "metadata": {},
     "output_type": "execute_result"
    }
   ],
   "source": [
    "#kolumny w danych\n",
    "df.columns"
   ]
  },
  {
   "cell_type": "code",
   "execution_count": 7,
   "id": "infrared-hormone",
   "metadata": {},
   "outputs": [
    {
     "data": {
      "text/plain": [
       "38297     8.967\n",
       "6587     15.410\n",
       "3794     11.310\n",
       "1298     21.860\n",
       "41730    22.480\n",
       "Name: price, dtype: float64"
      ]
     },
     "execution_count": 7,
     "metadata": {},
     "output_type": "execute_result"
    }
   ],
   "source": [
    "#przykladowe 5 cen\n",
    "df[\"price\"].sample(5)"
   ]
  },
  {
   "cell_type": "code",
   "execution_count": 8,
   "id": "civic-boring",
   "metadata": {},
   "outputs": [
    {
     "data": {
      "text/plain": [
       "count    45694.000000\n",
       "mean        17.422577\n",
       "std         38.332439\n",
       "min          0.820018\n",
       "25%          7.173917\n",
       "50%          9.910000\n",
       "75%         15.405717\n",
       "max       3000.000015\n",
       "Name: price, dtype: float64"
      ]
     },
     "execution_count": 8,
     "metadata": {},
     "output_type": "execute_result"
    }
   ],
   "source": [
    "df[\"price\"].describe()"
   ]
  },
  {
   "cell_type": "code",
   "execution_count": 9,
   "id": "perceived-sponsorship",
   "metadata": {},
   "outputs": [
    {
     "data": {
      "text/plain": [
       "<AxesSubplot:>"
      ]
     },
     "execution_count": 9,
     "metadata": {},
     "output_type": "execute_result"
    },
    {
     "data": {
      "image/png": "[encoded data removed]",
      "text/plain": [
       "<Figure size 432x288 with 1 Axes>"
      ]
     },
     "metadata": {
      "needs_background": "light"
     },
     "output_type": "display_data"
    }
   ],
   "source": [
    "df[\"price\"].plot()"
   ]
  },
  {
   "cell_type": "code",
   "execution_count": 10,
   "id": "olive-postage",
   "metadata": {},
   "outputs": [
    {
     "data": {
      "image/png": "[encoded data removed]",
      "text/plain": [
       "<Figure size 432x288 with 1 Axes>"
      ]
     },
     "metadata": {
      "needs_background": "light"
     },
     "output_type": "display_data"
    }
   ],
   "source": [
    "#histogram\n",
    "df[\"price\"].hist(bins=100);"
   ]
  },
  {
   "cell_type": "code",
   "execution_count": 11,
   "id": "blocked-christian",
   "metadata": {},
   "outputs": [
    {
     "data": {
      "image/png": "[encoded data removed]",
      "text/plain": [
       "<Figure size 432x288 with 1 Axes>"
      ]
     },
     "metadata": {
      "needs_background": "light"
     },
     "output_type": "display_data"
    }
   ],
   "source": [
    "np.log10(df[\"price\"]).hist(bins=100);"
   ]
  },
  {
   "cell_type": "code",
   "execution_count": 12,
   "id": "coupled-establishment",
   "metadata": {},
   "outputs": [
    {
     "data": {
      "text/plain": [
       "17.422576928787148"
      ]
     },
     "execution_count": 12,
     "metadata": {},
     "output_type": "execute_result"
    }
   ],
   "source": [
    "price_mean = df[\"price\"].mean()\n",
    "price_mean"
   ]
  },
  {
   "cell_type": "code",
   "execution_count": 13,
   "id": "olive-friday",
   "metadata": {},
   "outputs": [],
   "source": [
    "df[\"price_pred\"] = price_mean"
   ]
  },
  {
   "cell_type": "code",
   "execution_count": 14,
   "id": "municipal-robin",
   "metadata": {},
   "outputs": [
    {
     "data": {
      "text/plain": [
       "13.030922906892457"
      ]
     },
     "execution_count": 14,
     "metadata": {},
     "output_type": "execute_result"
    }
   ],
   "source": [
    "mean_absolute_error(df[\"price\"],df[\"price_pred\"])"
   ]
  },
  {
   "cell_type": "code",
   "execution_count": 15,
   "id": "measured-symbol",
   "metadata": {},
   "outputs": [
    {
     "data": {
      "text/plain": [
       "9.91"
      ]
     },
     "execution_count": 15,
     "metadata": {},
     "output_type": "execute_result"
    }
   ],
   "source": [
    "price_median= df[\"price\"].median()\n",
    "price_median"
   ]
  },
  {
   "cell_type": "code",
   "execution_count": 16,
   "id": "becoming-investigator",
   "metadata": {},
   "outputs": [],
   "source": [
    "df[\"price_pred_median\"] = price_median"
   ]
  },
  {
   "cell_type": "code",
   "execution_count": 17,
   "id": "reduced-sixth",
   "metadata": {},
   "outputs": [
    {
     "data": {
      "text/plain": [
       "10.33542636451175"
      ]
     },
     "execution_count": 17,
     "metadata": {},
     "output_type": "execute_result"
    }
   ],
   "source": [
    "mean_absolute_error(df[\"price\"],df[\"price_pred_median\"])"
   ]
  },
  {
   "cell_type": "code",
   "execution_count": 19,
   "id": "warming-workstation",
   "metadata": {},
   "outputs": [],
   "source": [
    "X = df.values\n",
    "y = df[\"price\"].values"
   ]
  },
  {
   "cell_type": "code",
   "execution_count": 18,
   "id": "universal-aruba",
   "metadata": {},
   "outputs": [],
   "source": [
    "def run_model (model, X,y):\n",
    "    model.fit(X,y)\n",
    "    y_pred = model.predict(X)\n",
    "    \n",
    "    return mean_absolute_error(y,y_pred)"
   ]
  },
  {
   "cell_type": "code",
   "execution_count": 20,
   "id": "inappropriate-massage",
   "metadata": {},
   "outputs": [
    {
     "data": {
      "text/plain": [
       "13.030922906892457"
      ]
     },
     "execution_count": 20,
     "metadata": {},
     "output_type": "execute_result"
    }
   ],
   "source": [
    "run_model(DummyRegressor(strategy='mean'),X,y)"
   ]
  },
  {
   "cell_type": "code",
   "execution_count": 21,
   "id": "guilty-anthropology",
   "metadata": {},
   "outputs": [
    {
     "data": {
      "text/plain": [
       "10.33542636451175"
      ]
     },
     "execution_count": 21,
     "metadata": {},
     "output_type": "execute_result"
    }
   ],
   "source": [
    "run_model(DummyRegressor(strategy='median'),X,y)"
   ]
  },
  {
   "cell_type": "code",
   "execution_count": null,
   "id": "promotional-jumping",
   "metadata": {},
   "outputs": [],
   "source": []
  }
 ],
 "metadata": {
  "kernelspec": {
   "display_name": "Python 3",
   "language": "python",
   "name": "python3"
  },
  "language_info": {
   "codemirror_mode": {
    "name": "ipython",
    "version": 3
   },
   "file_extension": ".py",
   "mimetype": "text/x-python",
   "name": "python",
   "nbconvert_exporter": "python",
   "pygments_lexer": "ipython3",
   "version": "3.8.6"
  }
 },
 "nbformat": 4,
 "nbformat_minor": 5
}
